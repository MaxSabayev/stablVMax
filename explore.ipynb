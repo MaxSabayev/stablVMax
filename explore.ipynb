{
 "cells": [
  {
   "cell_type": "code",
   "execution_count": 1,
   "metadata": {},
   "outputs": [
    {
     "name": "stdout",
     "output_type": "stream",
     "text": [
      "['stabl_lasso', 'stabl_alasso', 'stabl_en']\n",
      "['lasso', 'alasso', 'en']\n"
     ]
    },
    {
     "name": "stderr",
     "output_type": "stream",
     "text": [
      "c:\\Users\\ACER\\Documents\\Education\\GLab\\stablVMax\\stabl\\stabl.py:18: TqdmExperimentalWarning: Using `tqdm.autonotebook.tqdm` in notebook mode. Use `tqdm.tqdm` instead to force console mode (e.g. in jupyter console)\n",
      "  from tqdm.autonotebook import tqdm\n"
     ]
    }
   ],
   "source": [
    "import json\n",
    "# from EMSattempt import unroll_experiment, unroll_parameters_gpt\n",
    "import itertools\n",
    "import numpy as np\n",
    "from stabl.EMS import read_json, unroll_parameters,generateModel\n",
    "\n",
    "\n",
    "\n",
    "params = read_json(\"./paramsNew.json\")\n",
    "models = [k for k in params[\"general\"][\"models\"].keys() if params[\"general\"][\"models\"][k]]\n",
    "stablModels = [m for m in models if \"stabl\" in m]\n",
    "nonStablModels = [m for m in models if \"stabl\" not in m]\n",
    "\n",
    "print(stablModels)\n",
    "print(nonStablModels)\n",
    "\n",
    "parmlist =unroll_parameters(params)"
   ]
  },
  {
   "cell_type": "code",
   "execution_count": 2,
   "metadata": {},
   "outputs": [
    {
     "data": {
      "application/vnd.jupyter.widget-view+json": {
       "model_id": "b34532af82734abda4a219d09dfba3b0",
       "version_major": 2,
       "version_minor": 0
      },
      "text/plain": [
       "  0%|          | 0/5 [00:00<?, ?it/s]"
      ]
     },
     "metadata": {},
     "output_type": "display_data"
    },
    {
     "data": {
      "application/vnd.jupyter.widget-view+json": {
       "model_id": "2623147ac69d402ea5e23c0339713d03",
       "version_major": 2,
       "version_minor": 0
      },
      "text/plain": [
       "Stabl progress:   0%|          | 0/10 [00:00<?, ?it/s]"
      ]
     },
     "metadata": {},
     "output_type": "display_data"
    },
    {
     "data": {
      "application/vnd.jupyter.widget-view+json": {
       "model_id": "6a9a86345132428797ba38b1a9abc144",
       "version_major": 2,
       "version_minor": 0
      },
      "text/plain": [
       "Stabl progress:   0%|          | 0/10 [00:00<?, ?it/s]"
      ]
     },
     "metadata": {},
     "output_type": "display_data"
    },
    {
     "data": {
      "application/vnd.jupyter.widget-view+json": {
       "model_id": "885221c70d4d4fe59467782d355a281b",
       "version_major": 2,
       "version_minor": 0
      },
      "text/plain": [
       "Stabl progress:   0%|          | 0/10 [00:00<?, ?it/s]"
      ]
     },
     "metadata": {},
     "output_type": "display_data"
    },
    {
     "data": {
      "application/vnd.jupyter.widget-view+json": {
       "model_id": "ceb66a17f7f34ad9b3471e44bc88c515",
       "version_major": 2,
       "version_minor": 0
      },
      "text/plain": [
       "Stabl progress:   0%|          | 0/10 [00:00<?, ?it/s]"
      ]
     },
     "metadata": {},
     "output_type": "display_data"
    },
    {
     "data": {
      "application/vnd.jupyter.widget-view+json": {
       "model_id": "f8938f0860ad44eea12dfd90b3f060b9",
       "version_major": 2,
       "version_minor": 0
      },
      "text/plain": [
       "Stabl progress:   0%|          | 0/10 [00:00<?, ?it/s]"
      ]
     },
     "metadata": {},
     "output_type": "display_data"
    }
   ],
   "source": [
    "from stabl.single_omic import single_omic_simple\n",
    "from sklearn.model_selection import StratifiedKFold\n",
    "import pandas as pd\n",
    "data = pd.read_csv(\"../WayneState/data/WayneCyTOF.csv\",index_col=0)\n",
    "y = pd.read_csv(\"../WayneState/data/labelLong.csv\",index_col=0).PE\n",
    "\n",
    "outerSplitter = StratifiedKFold()\n",
    "taskType = 'binary'\n",
    "\n",
    "paramSet = parmlist[20]\n",
    "\n",
    "preprocessing,model = generateModel(paramSet)\n",
    "preds, selectedFeats = single_omic_simple(\n",
    "    data,\n",
    "    y,\n",
    "    outerSplitter,\n",
    "    model,\n",
    "    paramSet[\"model\"],\n",
    "    preprocessing,\n",
    "    taskType,\n",
    ")"
   ]
  },
  {
   "cell_type": "code",
   "execution_count": null,
   "metadata": {},
   "outputs": [],
   "source": [
    "np.arcsinh(6)/np.arcsinh(14)"
   ]
  },
  {
   "cell_type": "code",
   "execution_count": null,
   "metadata": {},
   "outputs": [],
   "source": [
    "np.arcsinh(6/14)"
   ]
  },
  {
   "cell_type": "code",
   "execution_count": null,
   "metadata": {},
   "outputs": [],
   "source": [
    "parmlist[9]"
   ]
  },
  {
   "cell_type": "code",
   "execution_count": null,
   "metadata": {},
   "outputs": [],
   "source": [
    "a,b= generateModel(parmlist[44])\n",
    "a"
   ]
  },
  {
   "cell_type": "code",
   "execution_count": null,
   "metadata": {},
   "outputs": [],
   "source": [
    "b"
   ]
  },
  {
   "cell_type": "code",
   "execution_count": null,
   "metadata": {},
   "outputs": [],
   "source": [
    "\n"
   ]
  },
  {
   "cell_type": "code",
   "execution_count": null,
   "metadata": {},
   "outputs": [],
   "source": [
    "p = parmlist[-1]\n",
    "[ {b:c for b,c in zip(p[\"varNames\"],a)} for a in itertools.product(*[[p[v]] if ii ==0 else p[v] for ii,v in enumerate(p[\"varNames\"])] )]\n",
    "# print( [a for a in *[p[v] for v in p[\"varNames\"]]])"
   ]
  },
  {
   "cell_type": "code",
   "execution_count": null,
   "metadata": {},
   "outputs": [],
   "source": [
    "c =  np.array([ 0.01      ,  0.02154435,  0.04641589,  0.1       ,  0.21544347,\n",
    "          0.46415888,  1.        ,  2.15443469,  4.64158883, 10.        ]),\n",
    "l1_ratio = np.array([0.1, 0.3, 0.5, 0.7, 0.9])\n",
    "{ for a,b in itertools.product(c,l1_ratio)}"
   ]
  },
  {
   "cell_type": "code",
   "execution_count": null,
   "metadata": {},
   "outputs": [],
   "source": [
    "combins = list(itertools.product(*params[\"stabl_general\"].values()))\n",
    "[{key: value for key, value in zip(params[\"stabl_general\"].keys(), combo)} for combo in itertools.product(*params[\"stabl_general\"].values())]"
   ]
  },
  {
   "cell_type": "code",
   "execution_count": null,
   "metadata": {},
   "outputs": [],
   "source": [
    "\n",
    "{**params[\"preprocessing\"]}"
   ]
  }
 ],
 "metadata": {
  "kernelspec": {
   "display_name": "Python 3",
   "language": "python",
   "name": "python3"
  },
  "language_info": {
   "codemirror_mode": {
    "name": "ipython",
    "version": 3
   },
   "file_extension": ".py",
   "mimetype": "text/x-python",
   "name": "python",
   "nbconvert_exporter": "python",
   "pygments_lexer": "ipython3",
   "version": "3.12.3"
  }
 },
 "nbformat": 4,
 "nbformat_minor": 2
}
