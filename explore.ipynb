{
 "cells": [
  {
   "cell_type": "code",
   "execution_count": 8,
   "metadata": {},
   "outputs": [
    {
     "data": {
      "text/plain": [
       "['lasso', 'alasso', 'en', 'stabl_lasso', 'stabl_alasso', 'stabl_en']"
      ]
     },
     "execution_count": 8,
     "metadata": {},
     "output_type": "execute_result"
    }
   ],
   "source": [
    "import json\n",
    "# from EMSattempt import unroll_experiment, unroll_parameters_gpt\n",
    "import itertools\n",
    "\n",
    "def unroll_parameters(params: dict) -> list:\n",
    "    models = [k for k in params[\"use\"][\"models\"].keys() if params[\"use\"][\"models\"][k]]\n",
    "    \n",
    "\n",
    "    combinations = list(itertools.product(*params.values()))\n",
    "    unrolled = [{key: value for key, value in zip(params.keys(), combo)} for combo in combinations]\n",
    "\n",
    "    return unrolled\n",
    "\n",
    "def read_json(fn: str) -> dict:\n",
    "    with open(fn, 'r') as json_file:\n",
    "        d = json.load(json_file)\n",
    "    return d\n",
    "\n",
    "params = read_json(\"./paramsNew.json\")\n",
    "\n",
    "# unroll_parameters(params[\"preprocessing\"][\"vals\"])"
   ]
  },
  {
   "cell_type": "code",
   "execution_count": 1,
   "metadata": {},
   "outputs": [],
   "source": [
    "\n"
   ]
  }
 ],
 "metadata": {
  "kernelspec": {
   "display_name": "Python 3",
   "language": "python",
   "name": "python3"
  },
  "language_info": {
   "codemirror_mode": {
    "name": "ipython",
    "version": 3
   },
   "file_extension": ".py",
   "mimetype": "text/x-python",
   "name": "python",
   "nbconvert_exporter": "python",
   "pygments_lexer": "ipython3",
   "version": "3.10.4"
  }
 },
 "nbformat": 4,
 "nbformat_minor": 2
}
