{
 "cells": [
  {
   "cell_type": "code",
   "execution_count": 2,
   "metadata": {},
   "outputs": [
    {
     "ename": "AttributeError",
     "evalue": "type object 'spmatrix' has no attribute '__div__'",
     "output_type": "error",
     "traceback": [
      "\u001b[1;31m---------------------------------------------------------------------------\u001b[0m",
      "\u001b[1;31mAttributeError\u001b[0m                            Traceback (most recent call last)",
      "Cell \u001b[1;32mIn[2], line 5\u001b[0m\n\u001b[0;32m      3\u001b[0m \u001b[39mimport\u001b[39;00m \u001b[39mitertools\u001b[39;00m\n\u001b[0;32m      4\u001b[0m \u001b[39mimport\u001b[39;00m \u001b[39mnumpy\u001b[39;00m \u001b[39mas\u001b[39;00m \u001b[39mnp\u001b[39;00m\n\u001b[1;32m----> 5\u001b[0m \u001b[39mfrom\u001b[39;00m \u001b[39mstabl\u001b[39;00m\u001b[39m.\u001b[39;00m\u001b[39mEMS\u001b[39;00m \u001b[39mimport\u001b[39;00m read_json, unroll_parameters,generateModel\n\u001b[0;32m      9\u001b[0m params \u001b[39m=\u001b[39m read_json(\u001b[39m\"\u001b[39m\u001b[39m./paramsNew.json\u001b[39m\u001b[39m\"\u001b[39m)\n\u001b[0;32m     10\u001b[0m models \u001b[39m=\u001b[39m [k \u001b[39mfor\u001b[39;00m k \u001b[39min\u001b[39;00m params[\u001b[39m\"\u001b[39m\u001b[39mgeneral\u001b[39m\u001b[39m\"\u001b[39m][\u001b[39m\"\u001b[39m\u001b[39mmodels\u001b[39m\u001b[39m\"\u001b[39m]\u001b[39m.\u001b[39mkeys() \u001b[39mif\u001b[39;00m params[\u001b[39m\"\u001b[39m\u001b[39mgeneral\u001b[39m\u001b[39m\"\u001b[39m][\u001b[39m\"\u001b[39m\u001b[39mmodels\u001b[39m\u001b[39m\"\u001b[39m][k]]\n",
      "File \u001b[1;32mc:\\Users\\Max\\Documents\\Education\\GLab\\Stabl\\stabl\\EMS.py:19\u001b[0m\n\u001b[0;32m     17\u001b[0m \u001b[39mfrom\u001b[39;00m \u001b[39msklearn\u001b[39;00m\u001b[39m.\u001b[39;00m\u001b[39mmodel_selection\u001b[39;00m \u001b[39mimport\u001b[39;00m RepeatedStratifiedKFold, GroupShuffleSplit, GridSearchCV, RepeatedKFold\n\u001b[0;32m     18\u001b[0m \u001b[39mfrom\u001b[39;00m \u001b[39msklearn\u001b[39;00m\u001b[39m.\u001b[39;00m\u001b[39mlinear_model\u001b[39;00m \u001b[39mimport\u001b[39;00m LogisticRegression, Lasso, ElasticNet\n\u001b[1;32m---> 19\u001b[0m \u001b[39mfrom\u001b[39;00m \u001b[39m.\u001b[39;00m\u001b[39mstabl\u001b[39;00m \u001b[39mimport\u001b[39;00m Stabl, group_bootstrap\n\u001b[0;32m     20\u001b[0m \u001b[39mfrom\u001b[39;00m \u001b[39m.\u001b[39;00m\u001b[39madaptive\u001b[39;00m \u001b[39mimport\u001b[39;00m ALogitLasso, ALasso\n\u001b[0;32m     21\u001b[0m \u001b[39mfrom\u001b[39;00m \u001b[39msklearn\u001b[39;00m\u001b[39m.\u001b[39;00m\u001b[39mfeature_selection\u001b[39;00m \u001b[39mimport\u001b[39;00m VarianceThreshold, SelectPercentile\n",
      "File \u001b[1;32mc:\\Users\\Max\\Documents\\Education\\GLab\\Stabl\\stabl\\stabl.py:11\u001b[0m\n\u001b[0;32m      9\u001b[0m \u001b[39mimport\u001b[39;00m \u001b[39mpandas\u001b[39;00m \u001b[39mas\u001b[39;00m \u001b[39mpd\u001b[39;00m\n\u001b[0;32m     10\u001b[0m \u001b[39mfrom\u001b[39;00m \u001b[39mjoblib\u001b[39;00m \u001b[39mimport\u001b[39;00m Parallel, delayed\n\u001b[1;32m---> 11\u001b[0m \u001b[39mfrom\u001b[39;00m \u001b[39mknockpy\u001b[39;00m\u001b[39m.\u001b[39;00m\u001b[39mknockoffs\u001b[39;00m \u001b[39mimport\u001b[39;00m GaussianSampler\n\u001b[0;32m     12\u001b[0m \u001b[39mfrom\u001b[39;00m \u001b[39msklearn\u001b[39;00m\u001b[39m.\u001b[39;00m\u001b[39mbase\u001b[39;00m \u001b[39mimport\u001b[39;00m BaseEstimator, clone\n\u001b[0;32m     13\u001b[0m \u001b[39mfrom\u001b[39;00m \u001b[39msklearn\u001b[39;00m\u001b[39m.\u001b[39;00m\u001b[39mfeature_selection\u001b[39;00m \u001b[39mimport\u001b[39;00m SelectorMixin, SelectFromModel\n",
      "File \u001b[1;32mc:\\Users\\Max\\AppData\\Local\\Programs\\Python\\Python311\\Lib\\site-packages\\knockpy\\__init__.py:21\u001b[0m\n\u001b[0;32m     19\u001b[0m \u001b[39mfrom\u001b[39;00m \u001b[39m.\u001b[39;00m \u001b[39mimport\u001b[39;00m constants\n\u001b[0;32m     20\u001b[0m \u001b[39mfrom\u001b[39;00m \u001b[39m.\u001b[39;00m \u001b[39mimport\u001b[39;00m dgp\n\u001b[1;32m---> 21\u001b[0m \u001b[39mfrom\u001b[39;00m \u001b[39m.\u001b[39;00m \u001b[39mimport\u001b[39;00m ggm\n\u001b[0;32m     22\u001b[0m \u001b[39mfrom\u001b[39;00m \u001b[39m.\u001b[39;00m \u001b[39mimport\u001b[39;00m knockoffs\n\u001b[0;32m     23\u001b[0m \u001b[39mfrom\u001b[39;00m \u001b[39m.\u001b[39;00m \u001b[39mimport\u001b[39;00m knockoff_filter\n",
      "File \u001b[1;32mc:\\Users\\Max\\AppData\\Local\\Programs\\Python\\Python311\\Lib\\site-packages\\knockpy\\ggm.py:7\u001b[0m\n\u001b[0;32m      5\u001b[0m \u001b[39mimport\u001b[39;00m \u001b[39mcopy\u001b[39;00m\n\u001b[0;32m      6\u001b[0m \u001b[39mimport\u001b[39;00m \u001b[39mnumpy\u001b[39;00m \u001b[39mas\u001b[39;00m \u001b[39mnp\u001b[39;00m\n\u001b[1;32m----> 7\u001b[0m \u001b[39mfrom\u001b[39;00m \u001b[39m.\u001b[39;00m\u001b[39mknockoff_filter\u001b[39;00m \u001b[39mimport\u001b[39;00m KnockoffFilter \u001b[39mas\u001b[39;00m KF\n\u001b[0;32m      9\u001b[0m \u001b[39mdef\u001b[39;00m \u001b[39mdiscovered_edges\u001b[39m(W, T, logic\u001b[39m=\u001b[39m\u001b[39m'\u001b[39m\u001b[39mand\u001b[39m\u001b[39m'\u001b[39m):\n\u001b[0;32m     10\u001b[0m \u001b[39m\t\u001b[39m\u001b[39m\"\"\"\u001b[39;00m\n\u001b[0;32m     11\u001b[0m \u001b[39m\tParameters\u001b[39;00m\n\u001b[0;32m     12\u001b[0m \u001b[39m\t----------\u001b[39;00m\n\u001b[1;32m   (...)\u001b[0m\n\u001b[0;32m     28\u001b[0m \u001b[39m\t\tdiscovered. \u001b[39;00m\n\u001b[0;32m     29\u001b[0m \u001b[39m\t\"\"\"\u001b[39;00m\n",
      "File \u001b[1;32mc:\\Users\\Max\\AppData\\Local\\Programs\\Python\\Python311\\Lib\\site-packages\\knockpy\\knockoff_filter.py:5\u001b[0m\n\u001b[0;32m      3\u001b[0m \u001b[39mfrom\u001b[39;00m \u001b[39m.\u001b[39;00m \u001b[39mimport\u001b[39;00m constants\n\u001b[0;32m      4\u001b[0m \u001b[39mfrom\u001b[39;00m \u001b[39m.\u001b[39;00m \u001b[39mimport\u001b[39;00m utilities\n\u001b[1;32m----> 5\u001b[0m \u001b[39mfrom\u001b[39;00m \u001b[39m.\u001b[39;00m \u001b[39mimport\u001b[39;00m mrc\n\u001b[0;32m      6\u001b[0m \u001b[39mfrom\u001b[39;00m \u001b[39m.\u001b[39;00m \u001b[39mimport\u001b[39;00m knockoffs\n\u001b[0;32m      7\u001b[0m \u001b[39mfrom\u001b[39;00m \u001b[39m.\u001b[39;00m \u001b[39mimport\u001b[39;00m metro\n",
      "File \u001b[1;32mc:\\Users\\Max\\AppData\\Local\\Programs\\Python\\Python311\\Lib\\site-packages\\knockpy\\mrc.py:8\u001b[0m\n\u001b[0;32m      6\u001b[0m \u001b[39mimport\u001b[39;00m \u001b[39mscipy\u001b[39;00m \u001b[39mas\u001b[39;00m \u001b[39msp\u001b[39;00m\n\u001b[0;32m      7\u001b[0m \u001b[39mfrom\u001b[39;00m \u001b[39mscipy\u001b[39;00m \u001b[39mimport\u001b[39;00m stats\n\u001b[1;32m----> 8\u001b[0m \u001b[39mfrom\u001b[39;00m \u001b[39m.\u001b[39;00m \u001b[39mimport\u001b[39;00m utilities, constants, mac\n\u001b[0;32m      9\u001b[0m \u001b[39mtry\u001b[39;00m:\n\u001b[0;32m     10\u001b[0m     \u001b[39mimport\u001b[39;00m \u001b[39mcholdate\u001b[39;00m\n",
      "File \u001b[1;32mc:\\Users\\Max\\AppData\\Local\\Programs\\Python\\Python311\\Lib\\site-packages\\knockpy\\mac.py:12\u001b[0m\n\u001b[0;32m     10\u001b[0m \u001b[39m# For SDP\u001b[39;00m\n\u001b[0;32m     11\u001b[0m \u001b[39mimport\u001b[39;00m \u001b[39mtime\u001b[39;00m\n\u001b[1;32m---> 12\u001b[0m \u001b[39mimport\u001b[39;00m \u001b[39mcvxpy\u001b[39;00m \u001b[39mas\u001b[39;00m \u001b[39mcp\u001b[39;00m\n\u001b[0;32m     13\u001b[0m \u001b[39mtry\u001b[39;00m:\n\u001b[0;32m     14\u001b[0m     \u001b[39mfrom\u001b[39;00m \u001b[39mpydsdp\u001b[39;00m\u001b[39m.\u001b[39;00m\u001b[39mdsdp5\u001b[39;00m \u001b[39mimport\u001b[39;00m dsdp\n",
      "File \u001b[1;32mc:\\Users\\Max\\AppData\\Local\\Programs\\Python\\Python311\\Lib\\site-packages\\cvxpy\\__init__.py:18\u001b[0m\n\u001b[0;32m      1\u001b[0m \u001b[39m\"\"\"\u001b[39;00m\n\u001b[0;32m      2\u001b[0m \u001b[39mCopyright, the CVXPY authors\u001b[39;00m\n\u001b[0;32m      3\u001b[0m \n\u001b[1;32m   (...)\u001b[0m\n\u001b[0;32m     14\u001b[0m \u001b[39mlimitations under the License.\u001b[39;00m\n\u001b[0;32m     15\u001b[0m \u001b[39m\"\"\"\u001b[39;00m\n\u001b[0;32m     16\u001b[0m \u001b[39mfrom\u001b[39;00m \u001b[39mcvxpy\u001b[39;00m\u001b[39m.\u001b[39;00m\u001b[39mversion\u001b[39;00m \u001b[39mimport\u001b[39;00m (\n\u001b[0;32m     17\u001b[0m     version \u001b[39mas\u001b[39;00m __version__,)  \u001b[39m# cvxpy/version.py is auto-generated\u001b[39;00m\n\u001b[1;32m---> 18\u001b[0m \u001b[39mimport\u001b[39;00m \u001b[39mcvxpy\u001b[39;00m\u001b[39m.\u001b[39;00m\u001b[39minterface\u001b[39;00m\u001b[39m.\u001b[39;00m\u001b[39mscipy_wrapper\u001b[39;00m\n\u001b[0;32m     19\u001b[0m \u001b[39mfrom\u001b[39;00m \u001b[39mcvxpy\u001b[39;00m\u001b[39m.\u001b[39;00m\u001b[39matoms\u001b[39;00m \u001b[39mimport\u001b[39;00m \u001b[39m*\u001b[39m\n\u001b[0;32m     20\u001b[0m \u001b[39mfrom\u001b[39;00m \u001b[39mcvxpy\u001b[39;00m\u001b[39m.\u001b[39;00m\u001b[39mconstraints\u001b[39;00m \u001b[39mimport\u001b[39;00m (Constraint, PSD, SOC, NonPos, NonNeg, Zero, \n\u001b[0;32m     21\u001b[0m                                PowCone3D, PowConeND, ExpCone, \n\u001b[0;32m     22\u001b[0m                                OpRelEntrConeQuad, RelEntrConeQuad, FiniteSet,)\n",
      "File \u001b[1;32mc:\\Users\\Max\\AppData\\Local\\Programs\\Python\\Python311\\Lib\\site-packages\\cvxpy\\interface\\scipy_wrapper.py:37\u001b[0m\n\u001b[0;32m     33\u001b[0m     \u001b[39mreturn\u001b[39;00m new_method\n\u001b[0;32m     36\u001b[0m \u001b[39mfor\u001b[39;00m method_name \u001b[39min\u001b[39;00m BIN_OPS:\n\u001b[1;32m---> 37\u001b[0m     method \u001b[39m=\u001b[39m \u001b[39mgetattr\u001b[39;49m(spmatrix, method_name)\n\u001b[0;32m     38\u001b[0m     new_method \u001b[39m=\u001b[39m wrap_bin_op(method)\n\u001b[0;32m     39\u001b[0m     \u001b[39msetattr\u001b[39m(spmatrix, method_name, new_method)\n",
      "\u001b[1;31mAttributeError\u001b[0m: type object 'spmatrix' has no attribute '__div__'"
     ]
    }
   ],
   "source": [
    "import json\n",
    "# from EMSattempt import unroll_experiment, unroll_parameters_gpt\n",
    "import itertools\n",
    "import numpy as np\n",
    "from stabl.EMS import read_json, unroll_parameters,generateModel\n",
    "\n",
    "\n",
    "\n",
    "params = read_json(\"./paramsNew.json\")\n",
    "models = [k for k in params[\"general\"][\"models\"].keys() if params[\"general\"][\"models\"][k]]\n",
    "stablModels = [m for m in models if \"stabl\" in m]\n",
    "nonStablModels = [m for m in models if \"stabl\" not in m]\n",
    "\n",
    "print(stablModels)\n",
    "print(nonStablModels)\n",
    "\n",
    "parmlist =unroll_parameters(params)"
   ]
  },
  {
   "cell_type": "code",
   "execution_count": 56,
   "metadata": {},
   "outputs": [
    {
     "data": {
      "text/plain": [
       "{'model': 'stabl_en',\n",
       " 'varValues': 0.1,\n",
       " 'lifThresh': 0.2,\n",
       " 'n_bootstraps': 500,\n",
       " 'replace': True,\n",
       " 'artificialTypes': 'knockoff',\n",
       " 'artificialProportions': 1.0,\n",
       " 'sampleFractions': 1.0,\n",
       " 'fdrThreshParams': [0.1, 1.0, 0.01],\n",
       " 'varType': 'thresh',\n",
       " 'C': array([ 0.01      ,  0.02154435,  0.04641589,  0.1       ,  0.21544347,\n",
       "         0.46415888,  1.        ,  2.15443469,  4.64158883, 10.        ]),\n",
       " 'l1_ratio': array([0.1, 0.3, 0.5, 0.7, 0.9]),\n",
       " 'varNames': ['C', 'l1_ratio']}"
      ]
     },
     "execution_count": 56,
     "metadata": {},
     "output_type": "execute_result"
    }
   ],
   "source": [
    "parmlist[-1]"
   ]
  },
  {
   "cell_type": "code",
   "execution_count": 55,
   "metadata": {},
   "outputs": [
    {
     "data": {
      "text/plain": [
       "[{'C': array([ 0.01      ,  0.02154435,  0.04641589,  0.1       ,  0.21544347,\n",
       "          0.46415888,  1.        ,  2.15443469,  4.64158883, 10.        ]),\n",
       "  'l1_ratio': 0.1},\n",
       " {'C': array([ 0.01      ,  0.02154435,  0.04641589,  0.1       ,  0.21544347,\n",
       "          0.46415888,  1.        ,  2.15443469,  4.64158883, 10.        ]),\n",
       "  'l1_ratio': 0.30000000000000004},\n",
       " {'C': array([ 0.01      ,  0.02154435,  0.04641589,  0.1       ,  0.21544347,\n",
       "          0.46415888,  1.        ,  2.15443469,  4.64158883, 10.        ]),\n",
       "  'l1_ratio': 0.5},\n",
       " {'C': array([ 0.01      ,  0.02154435,  0.04641589,  0.1       ,  0.21544347,\n",
       "          0.46415888,  1.        ,  2.15443469,  4.64158883, 10.        ]),\n",
       "  'l1_ratio': 0.7000000000000001},\n",
       " {'C': array([ 0.01      ,  0.02154435,  0.04641589,  0.1       ,  0.21544347,\n",
       "          0.46415888,  1.        ,  2.15443469,  4.64158883, 10.        ]),\n",
       "  'l1_ratio': 0.9}]"
      ]
     },
     "execution_count": 55,
     "metadata": {},
     "output_type": "execute_result"
    }
   ],
   "source": [
    "p = parmlist[-1]\n",
    "[ {b:c for b,c in zip(p[\"varNames\"],a)} for a in itertools.product(*[[p[v]] if ii ==0 else p[v] for ii,v in enumerate(p[\"varNames\"])] )]\n",
    "# print( [a for a in *[p[v] for v in p[\"varNames\"]]])"
   ]
  },
  {
   "cell_type": "code",
   "execution_count": 28,
   "metadata": {},
   "outputs": [
    {
     "data": {
      "text/plain": [
       "[(array([ 0.01      ,  0.02154435,  0.04641589,  0.1       ,  0.21544347,\n",
       "          0.46415888,  1.        ,  2.15443469,  4.64158883, 10.        ]),\n",
       "  0.1),\n",
       " (array([ 0.01      ,  0.02154435,  0.04641589,  0.1       ,  0.21544347,\n",
       "          0.46415888,  1.        ,  2.15443469,  4.64158883, 10.        ]),\n",
       "  0.3),\n",
       " (array([ 0.01      ,  0.02154435,  0.04641589,  0.1       ,  0.21544347,\n",
       "          0.46415888,  1.        ,  2.15443469,  4.64158883, 10.        ]),\n",
       "  0.5),\n",
       " (array([ 0.01      ,  0.02154435,  0.04641589,  0.1       ,  0.21544347,\n",
       "          0.46415888,  1.        ,  2.15443469,  4.64158883, 10.        ]),\n",
       "  0.7),\n",
       " (array([ 0.01      ,  0.02154435,  0.04641589,  0.1       ,  0.21544347,\n",
       "          0.46415888,  1.        ,  2.15443469,  4.64158883, 10.        ]),\n",
       "  0.9)]"
      ]
     },
     "execution_count": 28,
     "metadata": {},
     "output_type": "execute_result"
    }
   ],
   "source": [
    "c =  np.array([ 0.01      ,  0.02154435,  0.04641589,  0.1       ,  0.21544347,\n",
    "          0.46415888,  1.        ,  2.15443469,  4.64158883, 10.        ]),\n",
    "l1_ratio = np.array([0.1, 0.3, 0.5, 0.7, 0.9])\n",
    "{ for a,b in itertools.product(c,l1_ratio)}"
   ]
  },
  {
   "cell_type": "code",
   "execution_count": 16,
   "metadata": {},
   "outputs": [
    {
     "data": {
      "text/plain": [
       "[{'n_bootstraps': 500,\n",
       "  'replace': True,\n",
       "  'artificialTypes': 'random_permutation',\n",
       "  'artificialProportions': 1.0,\n",
       "  'sampleFractions': 0.5,\n",
       "  'fdrThreshParams': [0.1, 1.0, 0.01]},\n",
       " {'n_bootstraps': 500,\n",
       "  'replace': True,\n",
       "  'artificialTypes': 'random_permutation',\n",
       "  'artificialProportions': 1.0,\n",
       "  'sampleFractions': 1.0,\n",
       "  'fdrThreshParams': [0.1, 1.0, 0.01]},\n",
       " {'n_bootstraps': 500,\n",
       "  'replace': True,\n",
       "  'artificialTypes': 'knockoff',\n",
       "  'artificialProportions': 1.0,\n",
       "  'sampleFractions': 0.5,\n",
       "  'fdrThreshParams': [0.1, 1.0, 0.01]},\n",
       " {'n_bootstraps': 500,\n",
       "  'replace': True,\n",
       "  'artificialTypes': 'knockoff',\n",
       "  'artificialProportions': 1.0,\n",
       "  'sampleFractions': 1.0,\n",
       "  'fdrThreshParams': [0.1, 1.0, 0.01]}]"
      ]
     },
     "execution_count": 16,
     "metadata": {},
     "output_type": "execute_result"
    }
   ],
   "source": [
    "combins = list(itertools.product(*params[\"stabl_general\"].values()))\n",
    "[{key: value for key, value in zip(params[\"stabl_general\"].keys(), combo)} for combo in itertools.product(*params[\"stabl_general\"].values())]"
   ]
  },
  {
   "cell_type": "code",
   "execution_count": 5,
   "metadata": {},
   "outputs": [
    {
     "data": {
      "text/plain": [
       "{'varValues': [0, 0.01, 0.1], 'lifThresh': [0.2]}"
      ]
     },
     "execution_count": 5,
     "metadata": {},
     "output_type": "execute_result"
    }
   ],
   "source": [
    "\n",
    "{**params[\"preprocessing\"]}"
   ]
  }
 ],
 "metadata": {
  "kernelspec": {
   "display_name": "Python 3",
   "language": "python",
   "name": "python3"
  },
  "language_info": {
   "codemirror_mode": {
    "name": "ipython",
    "version": 3
   },
   "file_extension": ".py",
   "mimetype": "text/x-python",
   "name": "python",
   "nbconvert_exporter": "python",
   "pygments_lexer": "ipython3",
   "version": "3.11.2"
  }
 },
 "nbformat": 4,
 "nbformat_minor": 2
}
